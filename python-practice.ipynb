{
  "nbformat": 4,
  "nbformat_minor": 0,
  "metadata": {
    "colab": {
      "provenance": [],
      "authorship_tag": "ABX9TyMS69dIiUfeRR8YKSo++3QO",
      "include_colab_link": true
    },
    "kernelspec": {
      "name": "python3",
      "display_name": "Python 3"
    },
    "language_info": {
      "name": "python"
    }
  },
  "cells": [
    {
      "cell_type": "markdown",
      "metadata": {
        "id": "view-in-github",
        "colab_type": "text"
      },
      "source": [
        "<a href=\"https://colab.research.google.com/github/arpit-parejiya01/practice/blob/main/python-practice.ipynb\" target=\"_parent\"><img src=\"https://colab.research.google.com/assets/colab-badge.svg\" alt=\"Open In Colab\"/></a>"
      ]
    },
    {
      "cell_type": "code",
      "execution_count": null,
      "metadata": {
        "colab": {
          "base_uri": "https://localhost:8080/"
        },
        "id": "cnXdpetXLA2b",
        "outputId": "7410afa6-f351-491c-beac-14e8cfb39e59"
      },
      "outputs": [
        {
          "output_type": "stream",
          "name": "stdout",
          "text": [
            "4321\n"
          ]
        }
      ],
      "source": [
        "s = 1234\n",
        "rev_str = \"\"\n",
        "for i in str(s):\n",
        "  rev_str = i+rev_str\n",
        "\n",
        "print(rev_str)"
      ]
    },
    {
      "cell_type": "code",
      "source": [
        "name = \"arpit\"\n",
        "\n",
        "def fun():\n",
        "  print(\"my name is \" + name)\n",
        "fun()\n"
      ],
      "metadata": {
        "colab": {
          "base_uri": "https://localhost:8080/"
        },
        "id": "hHemi10YLxKF",
        "outputId": "217db32c-112b-4ec2-ab7e-e6e932e9db24"
      },
      "execution_count": null,
      "outputs": [
        {
          "output_type": "stream",
          "name": "stdout",
          "text": [
            "my name is arpit\n"
          ]
        }
      ]
    },
    {
      "cell_type": "code",
      "source": [
        "a = \"arpit\"\n",
        "for i in a[::-1]:\n",
        "  print(i,end='')"
      ],
      "metadata": {
        "colab": {
          "base_uri": "https://localhost:8080/"
        },
        "id": "YMhAxbaIPAlj",
        "outputId": "4afb10fc-c334-4968-d2af-e08e9f8d154b"
      },
      "execution_count": null,
      "outputs": [
        {
          "output_type": "stream",
          "name": "stdout",
          "text": [
            "tipra"
          ]
        }
      ]
    },
    {
      "cell_type": "code",
      "source": [
        "mylist = [\"arpit\",\"akash\"]\n",
        "print(len(mylist[0]))"
      ],
      "metadata": {
        "colab": {
          "base_uri": "https://localhost:8080/"
        },
        "id": "JILFsZBpSwKH",
        "outputId": "f63a610b-07f2-4a3e-e3ce-40fa1f251a38"
      },
      "execution_count": null,
      "outputs": [
        {
          "output_type": "stream",
          "name": "stdout",
          "text": [
            "5\n"
          ]
        }
      ]
    },
    {
      "cell_type": "code",
      "source": [
        "mylist = [\"arpit\",34,True,bool]\n",
        "print(type(mylist))"
      ],
      "metadata": {
        "colab": {
          "base_uri": "https://localhost:8080/"
        },
        "id": "qCX2aLYuTAsE",
        "outputId": "498858e0-38f3-476f-f448-6f6c7d4e624a"
      },
      "execution_count": null,
      "outputs": [
        {
          "output_type": "stream",
          "name": "stdout",
          "text": [
            "<class 'list'>\n"
          ]
        }
      ]
    },
    {
      "cell_type": "code",
      "source": [
        "mylist = [\"arpit\",34,True,bool]\n",
        "for i in mylist:\n",
        "  print(i)"
      ],
      "metadata": {
        "colab": {
          "base_uri": "https://localhost:8080/"
        },
        "id": "Si6LT5D3TcBb",
        "outputId": "9677ad8b-edd1-4547-923f-e2e50c5138fe"
      },
      "execution_count": null,
      "outputs": [
        {
          "output_type": "stream",
          "name": "stdout",
          "text": [
            "arpit\n",
            "34\n",
            "True\n",
            "<class 'bool'>\n"
          ]
        }
      ]
    },
    {
      "cell_type": "code",
      "source": [
        "mylist = [\"arpit\",34,True,bool]\n",
        "mylist[3] = \"akash\"\n",
        "print(mylist)"
      ],
      "metadata": {
        "colab": {
          "base_uri": "https://localhost:8080/"
        },
        "id": "6cRpJbOST7QU",
        "outputId": "16476805-7cb8-4635-c9bd-38ae2990703d"
      },
      "execution_count": null,
      "outputs": [
        {
          "output_type": "stream",
          "name": "stdout",
          "text": [
            "['arpit', 34, True, 'akash']\n"
          ]
        }
      ]
    },
    {
      "cell_type": "code",
      "source": [
        "mylist = [\"name\",\"age\"]\n",
        "i=0\n",
        "while i<len(mylist):\n",
        "  print(mylist[i])\n",
        "  i = i+1"
      ],
      "metadata": {
        "colab": {
          "base_uri": "https://localhost:8080/"
        },
        "id": "hIyFA9P1XqfJ",
        "outputId": "99b5d5cf-ff19-4e77-dfbd-13d080044add"
      },
      "execution_count": null,
      "outputs": [
        {
          "output_type": "stream",
          "name": "stdout",
          "text": [
            "name\n",
            "age\n"
          ]
        }
      ]
    },
    {
      "cell_type": "code",
      "source": [
        "a = [1,2,3,4,5,6,7,8,9,10]\n",
        "new = []\n",
        "new1 = []\n",
        "for i in a:\n",
        "  if i % 2 == 0:\n",
        "    new.append(i)\n",
        "  else:\n",
        "    new1.append(i)\n",
        "print(new)\n",
        "print(new1)\n",
        "\n"
      ],
      "metadata": {
        "colab": {
          "base_uri": "https://localhost:8080/"
        },
        "id": "o-jUI83cZBRu",
        "outputId": "a63f1764-11cd-41d9-e08d-346dc17d9add"
      },
      "execution_count": null,
      "outputs": [
        {
          "output_type": "stream",
          "name": "stdout",
          "text": [
            "[2, 4, 6, 8, 10]\n",
            "[1, 3, 5, 7, 9]\n"
          ]
        }
      ]
    },
    {
      "cell_type": "code",
      "source": [
        "thistuple = (\"apple\", \"banana\", \"cherry\")\n",
        "print(len(thistuple))"
      ],
      "metadata": {
        "colab": {
          "base_uri": "https://localhost:8080/"
        },
        "id": "6nRCserhaAdl",
        "outputId": "1f9be37a-6947-4663-d9e6-4ef0aca75c91"
      },
      "execution_count": null,
      "outputs": [
        {
          "output_type": "stream",
          "name": "stdout",
          "text": [
            "3\n"
          ]
        }
      ]
    },
    {
      "cell_type": "code",
      "source": [
        "for i in range(1,51):\n",
        "\n",
        "  if i == 25:\n",
        "     break\n",
        "  print(i)"
      ],
      "metadata": {
        "id": "xMNA8sf0clYm",
        "colab": {
          "base_uri": "https://localhost:8080/"
        },
        "outputId": "140c98c6-b37a-460b-d2a6-0f9f7ec41b6b"
      },
      "execution_count": null,
      "outputs": [
        {
          "output_type": "stream",
          "name": "stdout",
          "text": [
            "1\n",
            "2\n",
            "3\n",
            "4\n",
            "5\n",
            "6\n",
            "7\n",
            "8\n",
            "9\n",
            "10\n",
            "11\n",
            "12\n",
            "13\n",
            "14\n",
            "15\n",
            "16\n",
            "17\n",
            "18\n",
            "19\n",
            "20\n",
            "21\n",
            "22\n",
            "23\n",
            "24\n"
          ]
        }
      ]
    },
    {
      "cell_type": "code",
      "source": [
        "def multi(x,y):\n",
        "  return x*y\n",
        "multi(5,3)\n"
      ],
      "metadata": {
        "colab": {
          "base_uri": "https://localhost:8080/"
        },
        "id": "HB9usj5ee3iN",
        "outputId": "fb7e2741-70d1-43d4-ecc3-32affb60dcd2"
      },
      "execution_count": null,
      "outputs": [
        {
          "output_type": "execute_result",
          "data": {
            "text/plain": [
              "15"
            ]
          },
          "metadata": {},
          "execution_count": 7
        }
      ]
    },
    {
      "cell_type": "code",
      "source": [],
      "metadata": {
        "id": "94wGdB5sfHRd"
      },
      "execution_count": null,
      "outputs": []
    }
  ]
}